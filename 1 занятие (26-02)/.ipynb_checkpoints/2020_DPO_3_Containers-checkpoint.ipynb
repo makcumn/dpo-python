{
 "cells": [
  {
   "cell_type": "markdown",
   "metadata": {},
   "source": [
    "Центр непрерывного образования\n",
    "\n",
    "# Программа «Python для автоматизации и анализа данных»\n",
    "\n",
    "Неделя 1 - 1\n",
    "\n",
    "*Татьяна Рогович, НИУ ВШЭ*  \n",
    "\n",
    "## Типы данных - контейнеры: списки, кортежи, множества, словари."
   ]
  },
  {
   "cell_type": "markdown",
   "metadata": {},
   "source": [
    "# Списки (list)"
   ]
  },
  {
   "cell_type": "markdown",
   "metadata": {},
   "source": [
    "Давайте представим, что при написании программы нам нужно работать, например, с большой базой данных студентов университета.\n",
    "\n",
    "Если студентов несколько сотен, нет смысла создавать для каждого отдельную переменную - нам нужно научиться сохранять их всех в одной переменной. Начиная с этого занятия, мы будем изучать типы данных, которые позволяют это делать."
   ]
  },
  {
   "cell_type": "markdown",
   "metadata": {},
   "source": [
    "Начнем мы со **списков**. Если вы изучали другие языки программирования, то наверняка знакомы с аналогичным типом данных - массивами.\n",
    "\n",
    "Давайте для начала попробуем создать список из 3 студентов."
   ]
  },
  {
   "cell_type": "code",
   "execution_count": 1,
   "metadata": {},
   "outputs": [
    {
     "name": "stdout",
     "output_type": "stream",
     "text": [
      "['Ivan Ivanov', 'Tatiana Sidorova', 'Maria Smirnova']\n",
      "<class 'list'>\n"
     ]
    }
   ],
   "source": [
    "students = ['Ivan Ivanov', 'Tatiana Sidorova', 'Maria Smirnova']\n",
    "print(students)\n",
    "print(type(students))"
   ]
  },
  {
   "cell_type": "markdown",
   "metadata": {},
   "source": [
    "Пустой список можно создать двумя способами - оператором [] и функцией list()."
   ]
  },
  {
   "cell_type": "code",
   "execution_count": 3,
   "metadata": {},
   "outputs": [
    {
     "name": "stdout",
     "output_type": "stream",
     "text": [
      "[]\n",
      "[]\n"
     ]
    }
   ],
   "source": [
    "print([])\n",
    "print(list())"
   ]
  },
  {
   "cell_type": "markdown",
   "metadata": {},
   "source": [
    "Список может содержать любые данные - например, числа.  \n",
    "Давайте создадим список оценок студента."
   ]
  },
  {
   "cell_type": "code",
   "execution_count": 2,
   "metadata": {},
   "outputs": [
    {
     "name": "stdout",
     "output_type": "stream",
     "text": [
      "[6, 5, 7, 5, 8]\n"
     ]
    }
   ],
   "source": [
    "notes = [6, 5, 7, 5, 8]\n",
    "print(notes)"
   ]
  },
  {
   "cell_type": "markdown",
   "metadata": {},
   "source": [
    "Список может быть даже смешанным. Например, давайте сохраним в одном списке имя студента, его год рождения, средний балл, и логическую переменную, которая будет равна True, если студент учится на бюджете."
   ]
  },
  {
   "cell_type": "code",
   "execution_count": 3,
   "metadata": {},
   "outputs": [
    {
     "name": "stdout",
     "output_type": "stream",
     "text": [
      "['Ivan Ivanov', 1987, 7.5, True]\n"
     ]
    }
   ],
   "source": [
    "student1 = ['Ivan Ivanov', 1987, 7.5, True]\n",
    "print(student1)"
   ]
  },
  {
   "cell_type": "markdown",
   "metadata": {},
   "source": [
    "Список может даже содержать другие списки.  \n",
    "Давайте создадим еще одного студента по аналогии со student1 и положим этих двух студентов в еще один список."
   ]
  },
  {
   "cell_type": "code",
   "execution_count": 4,
   "metadata": {},
   "outputs": [
    {
     "name": "stdout",
     "output_type": "stream",
     "text": [
      "[['Ivan Ivanov', 1987, 7.5, True], ['Maria Smirnova', 1991, 7.9, False]]\n"
     ]
    }
   ],
   "source": [
    "student2 = ['Maria Smirnova', 1991, 7.9, False]\n",
    "students = [student1, student2]\n",
    "print(students)"
   ]
  },
  {
   "cell_type": "markdown",
   "metadata": {},
   "source": [
    "Элементы списков нумеруются, начиная с 0. Мы можем получить доступ к элементу списка по его индексу."
   ]
  },
  {
   "cell_type": "code",
   "execution_count": 5,
   "metadata": {},
   "outputs": [
    {
     "name": "stdout",
     "output_type": "stream",
     "text": [
      "Ivan Ivanov\n",
      "Tatiana Sidorova\n",
      "Maria Smirnova\n"
     ]
    }
   ],
   "source": [
    "students = ['Ivan Ivanov', 'Tatiana Sidorova', 'Maria Smirnova']\n",
    "print(students[0]) # первый элемент\n",
    "print(students[1]) # второй элемент\n",
    "print(students[-1]) # последний элемент"
   ]
  },
  {
   "cell_type": "markdown",
   "metadata": {},
   "source": [
    "Ксати, индексация работает и в строках. Там отдельными элементами являются символы.\n"
   ]
  },
  {
   "cell_type": "code",
   "execution_count": 6,
   "metadata": {},
   "outputs": [
    {
     "name": "stdout",
     "output_type": "stream",
     "text": [
      "с\n",
      "о\n"
     ]
    }
   ],
   "source": [
    "x = 'слово'\n",
    "print(x[0])\n",
    "print(x[-1])"
   ]
  },
  {
   "cell_type": "markdown",
   "metadata": {},
   "source": [
    "Мы можем узнать длину списка с помощью функции len() (тоже работает и для строк)"
   ]
  },
  {
   "cell_type": "code",
   "execution_count": 7,
   "metadata": {},
   "outputs": [
    {
     "name": "stdout",
     "output_type": "stream",
     "text": [
      "3\n",
      "5\n"
     ]
    }
   ],
   "source": [
    "print(len(students)) # количество элементов в списке students\n",
    "print(len(x)) # количество символов в строке x"
   ]
  },
  {
   "cell_type": "markdown",
   "metadata": {},
   "source": [
    "Но, в отличие от строк, список можно изменить."
   ]
  },
  {
   "cell_type": "code",
   "execution_count": 10,
   "metadata": {},
   "outputs": [
    {
     "name": "stdout",
     "output_type": "stream",
     "text": [
      "['Ivan Ivanov', 'Petr Petrov', 'Maria Smirnova']\n"
     ]
    }
   ],
   "source": [
    "students[1] = 'Petr Petrov' # заменяем второго студента в списке на Петра\n",
    "print(students)"
   ]
  },
  {
   "cell_type": "code",
   "execution_count": 9,
   "metadata": {},
   "outputs": [
    {
     "ename": "TypeError",
     "evalue": "'str' object does not support item assignment",
     "output_type": "error",
     "traceback": [
      "\u001b[1;31m---------------------------------------------------------------------------\u001b[0m",
      "\u001b[1;31mTypeError\u001b[0m                                 Traceback (most recent call last)",
      "\u001b[1;32m<ipython-input-9-195a27d758c7>\u001b[0m in \u001b[0;36m<module>\u001b[1;34m()\u001b[0m\n\u001b[1;32m----> 1\u001b[1;33m \u001b[0mx\u001b[0m\u001b[1;33m[\u001b[0m\u001b[1;36m1\u001b[0m\u001b[1;33m]\u001b[0m \u001b[1;33m=\u001b[0m \u001b[1;34m'a'\u001b[0m\u001b[1;33m\u001b[0m\u001b[0m\n\u001b[0m",
      "\u001b[1;31mTypeError\u001b[0m: 'str' object does not support item assignment"
     ]
    }
   ],
   "source": [
    "x[1] = 'a'"
   ]
  },
  {
   "cell_type": "markdown",
   "metadata": {},
   "source": [
    "Строки - неизменяемый тип данных, поэтому присвоение символа по индексу не сработает.\n",
    "\n",
    "Еще одна операция, которая работает с последовательностями - проверка на наличие элемента in и not in. Возвращает True или False."
   ]
  },
  {
   "cell_type": "code",
   "execution_count": 92,
   "metadata": {},
   "outputs": [
    {
     "name": "stdout",
     "output_type": "stream",
     "text": [
      "True\n",
      "True\n",
      "False\n"
     ]
    }
   ],
   "source": [
    "print('Ivan Ivanov' in students)\n",
    "print('Petr' not in students[2])\n",
    "print(2 in students)"
   ]
  },
  {
   "cell_type": "markdown",
   "metadata": {},
   "source": [
    "Способ расширить список - метод .append(), который добавляет аргумент в список в качестве последнего элемента."
   ]
  },
  {
   "cell_type": "code",
   "execution_count": 103,
   "metadata": {},
   "outputs": [
    {
     "name": "stdout",
     "output_type": "stream",
     "text": [
      "[0, 1, 2, 3, 4, 'cat', 'dog', 5]\n",
      "[0, 1, 2, 3, 4, 'cat', 'dog', 5, 6]\n"
     ]
    }
   ],
   "source": [
    "lst = [0, 1, 2, 3, 4, 'cat', 'dog']\n",
    "\n",
    "lst.append(5)\n",
    "print(lst)\n",
    "\n",
    "\n",
    "lst += [6] # эквивалентное append выражение\n",
    "print(lst)"
   ]
  },
  {
   "cell_type": "markdown",
   "metadata": {},
   "source": [
    "Удалить элемент из списка можно с помощью метода .remove() (без возвращения удаленного элемента) или .pop (с возвращением удаленного элемента)."
   ]
  },
  {
   "cell_type": "code",
   "execution_count": 104,
   "metadata": {},
   "outputs": [
    {
     "name": "stdout",
     "output_type": "stream",
     "text": [
      "[0, 1, 2, 3, 4, 'dog', 5, 6]\n"
     ]
    }
   ],
   "source": [
    "lst.remove('cat') # аргумент - объект, который ходим удалить\n",
    "print(lst)"
   ]
  },
  {
   "cell_type": "code",
   "execution_count": 105,
   "metadata": {},
   "outputs": [
    {
     "name": "stdout",
     "output_type": "stream",
     "text": [
      "[0, 1, 2, 3, 4, 'dog', 5]\n",
      "6\n"
     ]
    }
   ],
   "source": [
    "x = lst.pop(-1) # аргумент - индекс объекта. Результат операции можно сохранить в переменную\n",
    "print(lst)\n",
    "print(x)"
   ]
  },
  {
   "cell_type": "markdown",
   "metadata": {},
   "source": [
    "Если говорить еще о полезных методах, то это .count(), который подсчитывает количество элементов и .reverse(), который разворачивает список. Ниже еще отдельно поговорим о сортировке."
   ]
  },
  {
   "cell_type": "code",
   "execution_count": 108,
   "metadata": {},
   "outputs": [
    {
     "name": "stdout",
     "output_type": "stream",
     "text": [
      "1\n",
      "[5, 'dog', 4, 3, 2, 1, 0]\n"
     ]
    }
   ],
   "source": [
    "print(lst.count('dog')) # считаем количество 'dog' в списке\n",
    "lst.reverse() # разворачиваем список. Осторожно - метод меняет список!\n",
    "print(lst)\n"
   ]
  },
  {
   "cell_type": "markdown",
   "metadata": {},
   "source": [
    "Все методы списков [здесь](https://docs.python.org/3/tutorial/datastructures.html)"
   ]
  },
  {
   "cell_type": "markdown",
   "metadata": {},
   "source": [
    "### Сортировки"
   ]
  },
  {
   "cell_type": "markdown",
   "metadata": {},
   "source": [
    "Отдельно следует рассказать про метод **sort()**. Метод производит сортировку списка.\n",
    "Задачи сортировки - очень распространены в программировании. \n",
    "В общем случае, они сводятся к выстроению элементов списка в заданном порядке.\n",
    "В Python есть встроенные методы для сортировки объектов для того, чтобы программист \n",
    "мог не усложнять себе задачу написанием алгоритма сортировки. \n",
    "Метод **list.sort()** - как раз, один из таких случаев."
   ]
  },
  {
   "cell_type": "code",
   "execution_count": 109,
   "metadata": {},
   "outputs": [
    {
     "name": "stdout",
     "output_type": "stream",
     "text": [
      "[5, 8, 1, 4, 3, 7, 2]\n",
      "[1, 2, 3, 4, 5, 7, 8]\n"
     ]
    }
   ],
   "source": [
    "test_list = [5, 8, 1, 4, 3, 7, 2]\n",
    "print(test_list)  # Элементы списка расположены в хаотичном порядке\n",
    "test_list.sort()\n",
    "print(test_list)  # Теперь элементы списка теперь расположены по возрастанию"
   ]
  },
  {
   "cell_type": "markdown",
   "metadata": {},
   "source": [
    "Таким образом, метод **list.sort()** упорядочил элементы списка test_list\n",
    "Если нужно отсортировать элементы в обратном порядке, то можно использовать"
   ]
  },
  {
   "cell_type": "code",
   "execution_count": 110,
   "metadata": {},
   "outputs": [
    {
     "name": "stdout",
     "output_type": "stream",
     "text": [
      "[8, 7, 5, 4, 3, 2, 1]\n"
     ]
    }
   ],
   "source": [
    "test_list.sort(reverse=True)  # параметр reverse указывает на то, что нужно отсортировать список в обратном порядке\n",
    "print(test_list)"
   ]
  },
  {
   "cell_type": "markdown",
   "metadata": {},
   "source": [
    "Следует обратить внимание, что метод **list.sort()** изменяет сам список, на котором его вызвали. \n",
    "Таким образом, при каждом вызове метода \"**sort()**\", наш список \"test_list\" изменяется. \n",
    "Это может быть удобно, если нам не нужно держать в памяти исходный список. \n",
    "Однако, в противном случае, или же - в случае неизменяемого типа данных (например, кортежа или строки) - \n",
    "этот метод не сработает. В таком случае, на помощь приходит встроенная в питон функция **sorted()**"
   ]
  },
  {
   "cell_type": "code",
   "execution_count": 111,
   "metadata": {},
   "outputs": [
    {
     "name": "stdout",
     "output_type": "stream",
     "text": [
      "[1, 2, 3, 4, 5, 7, 8]\n"
     ]
    }
   ],
   "source": [
    "print(sorted(test_list))  # Сам список при сортировке не изменяется\n"
   ]
  },
  {
   "cell_type": "markdown",
   "metadata": {},
   "source": [
    "Так как sorted() функция, а не метод, то будет работать и с другими типами данных."
   ]
  },
  {
   "cell_type": "code",
   "execution_count": 121,
   "metadata": {},
   "outputs": [
    {
     "name": "stdout",
     "output_type": "stream",
     "text": [
      "['e', 'g', 'h', 'i', 'm', 'n', 'o', 's', 't']\n",
      "eghimnost\n"
     ]
    }
   ],
   "source": [
    "print(sorted('something')) # отсортирует буквы в строке, но выведет список\n",
    "print(''.join(sorted('something'))) # с помощью метода join можно собрать отсортированную строку, чуть ниже подробнее про него"
   ]
  },
  {
   "cell_type": "markdown",
   "metadata": {},
   "source": [
    "У функции sorted(), как и у метода list.sort() есть параметр key, \n",
    "с помощью которого можно указать функцию, которая будет применена к каждому элементу \n",
    "последовательности при сортировке."
   ]
  },
  {
   "cell_type": "code",
   "execution_count": 115,
   "metadata": {},
   "outputs": [
    {
     "name": "stdout",
     "output_type": "stream",
     "text": [
      "['A', 'AND', 'With', 'cases', 'lower', 'string', 'upper']\n",
      "['A', 'AND', 'cases', 'lower', 'string', 'upper', 'With']\n"
     ]
    }
   ],
   "source": [
    "test_string = 'A string With upper AND lower cases'\n",
    "print(sorted(test_string.split())) # заглавные буквы получили приоритет над строчными\n",
    "print(sorted(test_string.split(), key=str.upper)) # все буквы были приведены к верхнему регистру, сортировка получилась по алфавиту"
   ]
  },
  {
   "cell_type": "markdown",
   "metadata": {},
   "source": [
    "# Кортежи (tuple)"
   ]
  },
  {
   "cell_type": "markdown",
   "metadata": {},
   "source": [
    "Кортежи очень похожи на списки."
   ]
  },
  {
   "cell_type": "code",
   "execution_count": 11,
   "metadata": {},
   "outputs": [
    {
     "name": "stdout",
     "output_type": "stream",
     "text": [
      "('Ivan Ivanov', 2001, 7.5, True)\n",
      "<class 'tuple'>\n"
     ]
    }
   ],
   "source": [
    "student = ('Ivan Ivanov', 2001, 7.5, True)\n",
    "print(student)\n",
    "print(type(student))"
   ]
  },
  {
   "cell_type": "markdown",
   "metadata": {},
   "source": [
    "Пустой кортеж можно создать с помощью оператора () либо функции tuple."
   ]
  },
  {
   "cell_type": "code",
   "execution_count": 12,
   "metadata": {},
   "outputs": [
    {
     "name": "stdout",
     "output_type": "stream",
     "text": [
      "()\n",
      "()\n"
     ]
    }
   ],
   "source": [
    "print(())\n",
    "print(tuple())"
   ]
  },
  {
   "cell_type": "markdown",
   "metadata": {},
   "source": [
    "Основное отличие кортежей от списков состоит в том, что кортежи нельзя изменять (да-да, прямо как строки)."
   ]
  },
  {
   "cell_type": "code",
   "execution_count": 13,
   "metadata": {},
   "outputs": [
    {
     "ename": "TypeError",
     "evalue": "'tuple' object does not support item assignment",
     "output_type": "error",
     "traceback": [
      "\u001b[1;31m---------------------------------------------------------------------------\u001b[0m",
      "\u001b[1;31mTypeError\u001b[0m                                 Traceback (most recent call last)",
      "\u001b[1;32m<ipython-input-13-cf841071c98c>\u001b[0m in \u001b[0;36m<module>\u001b[1;34m()\u001b[0m\n\u001b[1;32m----> 1\u001b[1;33m \u001b[0mstudent\u001b[0m\u001b[1;33m[\u001b[0m\u001b[1;36m1\u001b[0m\u001b[1;33m]\u001b[0m \u001b[1;33m=\u001b[0m \u001b[1;36m2002\u001b[0m\u001b[1;33m\u001b[0m\u001b[0m\n\u001b[0m",
      "\u001b[1;31mTypeError\u001b[0m: 'tuple' object does not support item assignment"
     ]
    }
   ],
   "source": [
    "student[1] = 2002"
   ]
  },
  {
   "cell_type": "markdown",
   "metadata": {},
   "source": [
    "Списки и кортежи могут быть вложены друг в друга.  \n",
    "Например, пусть в информации о студенте у нас будет храниться не его средний балл, а список всех его оценок."
   ]
  },
  {
   "cell_type": "code",
   "execution_count": 14,
   "metadata": {},
   "outputs": [
    {
     "name": "stdout",
     "output_type": "stream",
     "text": [
      "('Ivan Ivanov', 2001, [8, 7, 7, 9, 6], True)\n"
     ]
    }
   ],
   "source": [
    "student = ('Ivan Ivanov', 2001, [8, 7, 7, 9, 6], True)\n",
    "print(student)"
   ]
  },
  {
   "cell_type": "markdown",
   "metadata": {},
   "source": [
    "Мы можем обратиться к элементу вложенного списка или кортежа с помощью двойной индексации."
   ]
  },
  {
   "cell_type": "code",
   "execution_count": 15,
   "metadata": {},
   "outputs": [
    {
     "name": "stdout",
     "output_type": "stream",
     "text": [
      "7\n"
     ]
    }
   ],
   "source": [
    "print(student[2][1]) # получили вторую оценку"
   ]
  },
  {
   "cell_type": "markdown",
   "metadata": {},
   "source": [
    "Иногда бывает полезно обезопасить себя от изменений массивов данных и использовать кортежи, но чаще всего мы все-таки будем работать со списками."
   ]
  },
  {
   "cell_type": "markdown",
   "metadata": {},
   "source": [
    "## (∩｀-´)⊃━☆ﾟ.*･｡ﾟ Задача\n",
    "## Средний балл\n",
    "\n",
    "Дан список `student = ('Ivan Ivanov', 2001, [8, 7, 7, 9, 6], True)`. Найдите средний балл Ивана, если оценки хранятся в списке внутри кортежа. Сумму элементов списка можно найти с помощью функции sum().\n",
    "\n",
    "**Формат вывода**  \n",
    "7.4"
   ]
  },
  {
   "cell_type": "code",
   "execution_count": 90,
   "metadata": {},
   "outputs": [
    {
     "name": "stdout",
     "output_type": "stream",
     "text": [
      "[8, 7, 7, 9, 6]\n",
      "7.4\n"
     ]
    }
   ],
   "source": [
    "student = ('Ivan Ivanov', 2001, [8, 7, 7, 9, 6], True)\n",
    "print(student[2]) # находим оценки\n",
    "print(sum(student[2])/len(student[2]))"
   ]
  },
  {
   "cell_type": "markdown",
   "metadata": {},
   "source": [
    "### Опасность работы с изменяемыми типами данных"
   ]
  },
  {
   "cell_type": "markdown",
   "metadata": {},
   "source": [
    "В работе со списками есть важный момент, на который нужно обращать внимание. Давайте рассмотрим такой код:"
   ]
  },
  {
   "cell_type": "code",
   "execution_count": 16,
   "metadata": {},
   "outputs": [
    {
     "name": "stdout",
     "output_type": "stream",
     "text": [
      "[4, 2, 3] [4, 2, 3]\n"
     ]
    }
   ],
   "source": [
    "a = [1, 2, 3]\n",
    "b = a\n",
    "b[0] = 4\n",
    "print(a, b) # изменили b, но a после этого тоже изменился!"
   ]
  },
  {
   "cell_type": "markdown",
   "metadata": {},
   "source": [
    "Почему так происходит?  \n",
    "Дело в том, что переменная a ссылается на место в памяти, где хранится список [1, 2, 3]. И когда мы пишем, что b = a, b начинает указывать на то же самое место. То есть образуется два имени для одного и того же кусочка данных. И после изменения этого кусочка через переменную b, значение переменной a тоже меняется!\n",
    "\n",
    "Как это исправить? Нужно создать копию списка a! В этом нам поможет метод .copy()"
   ]
  },
  {
   "cell_type": "code",
   "execution_count": 17,
   "metadata": {},
   "outputs": [
    {
     "name": "stdout",
     "output_type": "stream",
     "text": [
      "[1, 2, 3] [4, 2, 3]\n"
     ]
    }
   ],
   "source": [
    "a = [1, 2, 3]\n",
    "b = a.copy() # теперь переменная b указывает на другой список, который хранится в другом кусочке памяти\n",
    "b[0] = 4\n",
    "print(a, b)"
   ]
  },
  {
   "cell_type": "markdown",
   "metadata": {},
   "source": [
    "Копию можно создавать и с помощью пустого среза"
   ]
  },
  {
   "cell_type": "code",
   "execution_count": 18,
   "metadata": {},
   "outputs": [
    {
     "name": "stdout",
     "output_type": "stream",
     "text": [
      "[1, 2, 3] [4, 2, 3]\n"
     ]
    }
   ],
   "source": [
    "a = [1, 2, 3]\n",
    "b = a[:] # по умолчанию берется срез от первого элемента до последнего, то есть копируется весь список a\n",
    "b[0] = 4\n",
    "print(a, b)"
   ]
  },
  {
   "cell_type": "markdown",
   "metadata": {},
   "source": [
    "Но не путайте изменение с присваиванием!"
   ]
  },
  {
   "cell_type": "code",
   "execution_count": 19,
   "metadata": {},
   "outputs": [
    {
     "name": "stdout",
     "output_type": "stream",
     "text": [
      "[4, 5, 6] [1, 2, 3]\n"
     ]
    }
   ],
   "source": [
    "a = [1, 2, 3]\n",
    "b = a\n",
    "a = [4, 5, 6]\n",
    "print(a, b)"
   ]
  },
  {
   "cell_type": "markdown",
   "metadata": {},
   "source": [
    "В примере выше переменная a была не изменена, а перезаписана, она начала указывать на другой список, хранящийся в другом месте памяти, поэтому переменная b осталась нетронута."
   ]
  },
  {
   "cell_type": "markdown",
   "metadata": {},
   "source": [
    "### Конкатенация списков и кортежей"
   ]
  },
  {
   "cell_type": "markdown",
   "metadata": {},
   "source": [
    "На списках и кортежах определен оператор +. По аналогии со строками, он будет склеивать две части выражения.\n",
    "\n",
    "Но складывать можно только данные одного типа, список с кортежом склеить нельзя."
   ]
  },
  {
   "cell_type": "code",
   "execution_count": 20,
   "metadata": {},
   "outputs": [
    {
     "name": "stdout",
     "output_type": "stream",
     "text": [
      "[1, 2, 3, 4]\n",
      "(1, 2, 3, 4)\n"
     ]
    }
   ],
   "source": [
    "print([1, 2] + [3, 4])\n",
    "print((1, 2) + (3, 4))"
   ]
  },
  {
   "cell_type": "code",
   "execution_count": 21,
   "metadata": {},
   "outputs": [
    {
     "ename": "TypeError",
     "evalue": "can only concatenate tuple (not \"list\") to tuple",
     "output_type": "error",
     "traceback": [
      "\u001b[1;31m---------------------------------------------------------------------------\u001b[0m",
      "\u001b[1;31mTypeError\u001b[0m                                 Traceback (most recent call last)",
      "\u001b[1;32m<ipython-input-21-dbea205bf98e>\u001b[0m in \u001b[0;36m<module>\u001b[1;34m()\u001b[0m\n\u001b[1;32m----> 1\u001b[1;33m \u001b[0mprint\u001b[0m\u001b[1;33m(\u001b[0m\u001b[1;33m(\u001b[0m\u001b[1;36m1\u001b[0m\u001b[1;33m,\u001b[0m \u001b[1;36m2\u001b[0m\u001b[1;33m)\u001b[0m \u001b[1;33m+\u001b[0m \u001b[1;33m[\u001b[0m\u001b[1;36m3\u001b[0m\u001b[1;33m,\u001b[0m \u001b[1;36m4\u001b[0m\u001b[1;33m]\u001b[0m\u001b[1;33m)\u001b[0m \u001b[1;31m# а так нельзя\u001b[0m\u001b[1;33m\u001b[0m\u001b[0m\n\u001b[0m",
      "\u001b[1;31mTypeError\u001b[0m: can only concatenate tuple (not \"list\") to tuple"
     ]
    }
   ],
   "source": [
    "print((1, 2) + [3, 4]) # а так нельзя"
   ]
  },
  {
   "cell_type": "markdown",
   "metadata": {},
   "source": [
    "Но можно превратить список в кортеж, а потом сложить (или наоборот)."
   ]
  },
  {
   "cell_type": "code",
   "execution_count": 22,
   "metadata": {},
   "outputs": [
    {
     "name": "stdout",
     "output_type": "stream",
     "text": [
      "[1, 2, 3, 4]\n",
      "(1, 2, 3, 4)\n"
     ]
    }
   ],
   "source": [
    "print(list((1, 2)) + [3, 4])\n",
    "print((1, 2) + tuple([3, 4]))"
   ]
  },
  {
   "cell_type": "markdown",
   "metadata": {},
   "source": [
    "# Методы .split(), .join(),  функция map(), вывод и ввод списков"
   ]
  },
  {
   "cell_type": "markdown",
   "metadata": {},
   "source": [
    "При работе со списками довольно часто нам придется вводить их и выводить в отформатированном виде. Сейчас мы рассмотрим несколько методов, которые помогут сделать это в одну строку. "
   ]
  },
  {
   "cell_type": "markdown",
   "metadata": {},
   "source": [
    "### Метод .split()"
   ]
  },
  {
   "cell_type": "markdown",
   "metadata": {},
   "source": [
    "Метод строки .split() получает на вход строку-разделитель и возвращает список строк, разбитый по этому разделителю.\n",
    "\n",
    "По умолчанию метод разбивает строку по пробелу"
   ]
  },
  {
   "cell_type": "code",
   "execution_count": 116,
   "metadata": {},
   "outputs": [
    {
     "name": "stdout",
     "output_type": "stream",
     "text": [
      "['Hello', 'darkness', 'my', 'old', 'friend']\n",
      "['Hello', 'darkness', 'my', 'old', 'friend']\n"
     ]
    }
   ],
   "source": [
    "print('Hello darkness my old friend'.split())\n",
    "print('Hello    darkness  my old     friend'.split()) # несколько разделителей подряд? не беда, они будут прочитаны как один"
   ]
  },
  {
   "cell_type": "code",
   "execution_count": 117,
   "metadata": {},
   "outputs": [
    {
     "name": "stdout",
     "output_type": "stream",
     "text": [
      "['Ночь', 'Улица', 'Фонарь', 'Аптека']\n"
     ]
    }
   ],
   "source": [
    "print('Ночь. Улица. Фонарь. Аптека'.split('. '))"
   ]
  },
  {
   "cell_type": "markdown",
   "metadata": {},
   "source": [
    "### Метод .join()"
   ]
  },
  {
   "cell_type": "markdown",
   "metadata": {},
   "source": [
    "Метод .join() ведет себя с точностью до наоборот - он склеивает массив в строку, вставляя между элементами строку-разделитель."
   ]
  },
  {
   "cell_type": "code",
   "execution_count": 118,
   "metadata": {},
   "outputs": [
    {
     "name": "stdout",
     "output_type": "stream",
     "text": [
      "8-800-555-35-35\n"
     ]
    }
   ],
   "source": [
    "print('-'.join(['8', '800', '555', '35', '35']))"
   ]
  },
  {
   "cell_type": "markdown",
   "metadata": {},
   "source": [
    "### Функция map()"
   ]
  },
  {
   "cell_type": "markdown",
   "metadata": {},
   "source": [
    "Функция map() берет функцию и список и применяет эту функцию ко всем элементам списка.\n",
    "\n",
    "Обратите внимание, что результат работы этого метода надо дополнительно вручную преобразовать в список."
   ]
  },
  {
   "cell_type": "code",
   "execution_count": 119,
   "metadata": {},
   "outputs": [
    {
     "name": "stdout",
     "output_type": "stream",
     "text": [
      "<map object at 0x000001D0FD4C7C50>\n",
      "[True, False, True, True, True, False]\n"
     ]
    }
   ],
   "source": [
    "print(map(bool, [9, 0, 8, -288, 998, 0])) # не совсем то, что надо\n",
    "print(list(map(bool, [9, 0, 8, -288, 998, 0]))) # а теперь работает, каждое число преобразовалось в логическую переменную"
   ]
  },
  {
   "cell_type": "markdown",
   "metadata": {},
   "source": [
    "### Ввод и вывод списков"
   ]
  },
  {
   "cell_type": "markdown",
   "metadata": {},
   "source": [
    "Теперь мы можем быстро вводить и выводить списки, содержащие разные данные через разные разделители."
   ]
  },
  {
   "cell_type": "code",
   "execution_count": 120,
   "metadata": {},
   "outputs": [
    {
     "name": "stdout",
     "output_type": "stream",
     "text": [
      "[8, 913, 817, 86, 50]\n",
      "8-913-817-86-50\n"
     ]
    }
   ],
   "source": [
    "phone = list(map(int, input().split())) # получаем строку, разбиваем по пробелу, сразу преобразуем все элементы в числа\n",
    "print(phone)\n",
    "print('-'.join(list(map(str, phone)))) # преобразуем массив чисел в массив строк и склеиваем через дефис"
   ]
  },
  {
   "cell_type": "markdown",
   "metadata": {},
   "source": [
    "# Множества (set)\n",
    "\n",
    "Продолжим работать со структурами данных - контейнерами. Мы уже знаем списки и кортежи - упорядоченные структуры, которые могут хранить в себе объекты любых типов, к которым мы можем обратиться по индексу. Теперь поговорим о стуктурах неупорядоченных - множествах и словарях. \n",
    "\n",
    "Множества хранят некоторое количество объектов, но, в отличие от списка, один объект может храниться в множестве не более одного раза. Кроме того, порядок элементов множества произволен, им нельзя управлять.\n",
    "\n",
    "Тип называется set, это же является конструктором типа, т.е. в функцию set можно передать произвольную последовательность, и из этой последовательности будет построено множество:"
   ]
  },
  {
   "cell_type": "code",
   "execution_count": 62,
   "metadata": {},
   "outputs": [
    {
     "name": "stdout",
     "output_type": "stream",
     "text": [
      "{10, 20, 30}\n",
      "{4, 5, 6}\n",
      "{0, 1, 2, 3, 4, 5, 6, 7, 8, 9}\n",
      "set()\n"
     ]
    }
   ],
   "source": [
    "print(set([10, 20, 30])) # передаем список\n",
    "print(set((4, 5, 6))) # передаем tuple\n",
    "print(set(range(10)))\n",
    "print(set()) # пустое множество"
   ]
  },
  {
   "cell_type": "markdown",
   "metadata": {},
   "source": [
    "\n",
    "Другой способ создать множество - это перечислить его элементы в фигурных скобках (список - в квадратных, кортеж в круглых, а множество - в фигурных)"
   ]
  },
  {
   "cell_type": "code",
   "execution_count": 66,
   "metadata": {},
   "outputs": [
    {
     "name": "stdout",
     "output_type": "stream",
     "text": [
      "{2, 3, 5, 7}\n",
      "{'cat', 'dog', 'horse'}\n"
     ]
    }
   ],
   "source": [
    "primes = {2, 3, 5, 7}\n",
    "animals = {\"cat\", \"dog\", \"horse\", 'cat'}\n",
    "print(primes)\n",
    "print(animals)"
   ]
  },
  {
   "cell_type": "markdown",
   "metadata": {},
   "source": [
    "Кстати, обратите внимание, что множество может состоять только из уникальных объектов. Выше множество animals включает в себя только одну кошку несмотря на то, что в конструктор мы передали 'cat' два раза. Преобразовать в список в множество - самый простой способ узнать количество уникальных объектов.\n",
    "\n",
    "Множества - это последовательности, с ними работает почти всё, что работает с последовательностями (но не работают индексы, потому элементы не хранятся упорядоченно),"
   ]
  },
  {
   "cell_type": "code",
   "execution_count": 67,
   "metadata": {},
   "outputs": [
    {
     "name": "stdout",
     "output_type": "stream",
     "text": [
      "4\n",
      "False\n",
      "False\n"
     ]
    }
   ],
   "source": [
    "print(len(primes)) # длина\n",
    "print(11 in primes) # проверка на наличие элемента in хорошо и быстро работает для множеств\n",
    "print(\"cow\" in animals)"
   ]
  },
  {
   "cell_type": "markdown",
   "metadata": {},
   "source": [
    "Все возможные операции с множествами: https://docs.python.org/3/library/stdtypes.html#set-types-set-frozenset\n",
    "\n",
    "Отдельно мы посмотрим на так называемые операции над множествами. Если вы знаете круги Эйлера, то помните как различают объекты множеств - пересечение, объекты, которые принадлежат множеству а, но не принадлежат b и так далее. Давайте посмотрим, как эти операции реализовани в питоне."
   ]
  },
  {
   "cell_type": "code",
   "execution_count": 68,
   "metadata": {},
   "outputs": [
    {
     "name": "stdout",
     "output_type": "stream",
     "text": [
      "True\n",
      "False\n",
      "True\n",
      "{1, 2, 3, 4, 5, 6}\n",
      "{3, 4}\n",
      "{1, 2}\n",
      "{1, 2, 5, 6}\n",
      "{1, 2, 3, 4}\n"
     ]
    }
   ],
   "source": [
    "a = {1, 2, 3, 4}\n",
    "b = {3, 4, 5, 6}\n",
    "c = {2, 3}\n",
    "\n",
    "print(c <= a) # проверка на подмножество (с подномжество a)\n",
    "print(c <= b) # не подмножество, т.к. в b нет 2 \n",
    "print(a >= c) \n",
    "print(a | b) # объединение\n",
    "print(a & b) # пересечение\n",
    "print(a - b) # разность множеств (все что в a, кроме b)\n",
    "print(a ^ b) # симметрическая разность множеств (объединение без пересечения)\n",
    "\n",
    "c = a.copy() # копирование множества, или set(a)\n",
    "print(c)"
   ]
  },
  {
   "cell_type": "markdown",
   "metadata": {},
   "source": [
    "Предыдущие операции не меняли множества, создавали новые. А как менять множество:\n"
   ]
  },
  {
   "cell_type": "code",
   "execution_count": 69,
   "metadata": {},
   "outputs": [
    {
     "name": "stdout",
     "output_type": "stream",
     "text": [
      "{10, 1, 2, 3}\n",
      "{10, 2, 3}\n",
      "{2, 3}\n",
      "10\n",
      "set()\n"
     ]
    }
   ],
   "source": [
    "s = {1, 2, 3}\n",
    "s.add(10) # добавить\n",
    "print(s) # обратите внимание, что порядок элементов непредсказуем\n",
    "s.remove(1) # удаление элемента\n",
    "s.discard(1) # аналогично, но не будет ошибки, если вдруг такого элемента нет в множестве\n",
    "print(s)\n",
    "x = s.pop() # удаляет и возвращает один произвольный элемент множества (можем сохранить его в переменную)\n",
    "print(s)\n",
    "print(x)\n",
    "s.clear() # очистить\n",
    "print(s)"
   ]
  },
  {
   "cell_type": "markdown",
   "metadata": {},
   "source": [
    "Как мы сокращали арифметические операции раньше (например, +=), так же можно сокращать операции над множествами."
   ]
  },
  {
   "cell_type": "code",
   "execution_count": 70,
   "metadata": {},
   "outputs": [
    {
     "name": "stdout",
     "output_type": "stream",
     "text": [
      "{10, 20}\n"
     ]
    }
   ],
   "source": [
    "s |= {10, 20} # s = s | {10, 20} # объединение множества s с {10,20}\n",
    "print(s)\n",
    "# s ^=, s &= и т.п."
   ]
  },
  {
   "cell_type": "markdown",
   "metadata": {},
   "source": [
    "## (∩｀-´)⊃━☆ﾟ.*･｡ﾟ  Задача\n",
    "\n",
    "\n",
    "## Количество различных чисел\n",
    "\n",
    "Дан список чисел, который может содержать до 100000 чисел. Определите, сколько в нем встречается различных чисел.\n",
    "\n",
    "#### Пример 1\n",
    "\n",
    "##### Ввод\t\n",
    "\n",
    "1 2 3 2 1\n",
    "\n",
    "##### Вывод\n",
    "\n",
    "3\n",
    "\n",
    "#### Пример 2\n",
    "##### Ввод\t\n",
    "\n",
    "1 2 3 4 5 1 2 1 2 7 3\n",
    "\n",
    "##### Вывод\n",
    "6\n"
   ]
  },
  {
   "cell_type": "code",
   "execution_count": 72,
   "metadata": {},
   "outputs": [
    {
     "name": "stdout",
     "output_type": "stream",
     "text": [
      "6\n"
     ]
    }
   ],
   "source": [
    "# (∩｀-´)⊃━☆ﾟ.*･｡ﾟ\n",
    "lst = input().split()\n",
    "print(len(set(lst)))"
   ]
  },
  {
   "cell_type": "markdown",
   "metadata": {},
   "source": [
    "# Словари (dict)\n",
    "Обычный массив (в питоне это список) можно понимать как функцию, которая сопоставляет начальному отрезку натурального ряда какие-то значения."
   ]
  },
  {
   "cell_type": "markdown",
   "metadata": {},
   "source": [
    "Давайте посмотрим на списки непривычным способом. Списки - это функции (отображения), которые отображают начальный ряд натуральных чисел в объекты (проще говоря - преводят число 0,1,2,3... во что-то): "
   ]
  },
  {
   "cell_type": "code",
   "execution_count": 9,
   "metadata": {},
   "outputs": [
    {
     "name": "stdout",
     "output_type": "stream",
     "text": [
      "10\n",
      "20\n",
      "30\n",
      "a\n"
     ]
    }
   ],
   "source": [
    "l = [10, 20, 30, 'a']\n",
    "print(l[0])\n",
    "print(l[1])\n",
    "print(l[2])\n",
    "print(l[3])"
   ]
  },
  {
   "cell_type": "markdown",
   "metadata": {},
   "source": [
    "В словарях отображать можно не только начала натурального ряда, а произвольные объекты. Представьте себе настоящий словарь или телефонную книжку. Имени человека соответствует номер телефона.\n",
    "\n",
    "Классическое использование словарей в анализе данных: хранить частоту слова в тексте.\n",
    "\n",
    "кот $\\rightarrow$ 10\n",
    "\n",
    "и $\\rightarrow$ 100\n",
    "\n",
    "Тейлора $\\rightarrow$ 2"
   ]
  },
  {
   "cell_type": "markdown",
   "metadata": {},
   "source": [
    "Словарь состоит из набора ключей и соответствующих им значений. Значения могут быть любыми объектами (также как и в списке, хранить можно произвольные объекты). А ключи могут быть почти любыми объектами, но только неизменяемыми. В частности числами, строками, кортежами. Список или множество не могут быть ключом.\n",
    "\n",
    "Одному ключу соответствует ровно одно значение. Но одно и то же значение, в принципе, можно сопоставить разным ключа"
   ]
  },
  {
   "cell_type": "code",
   "execution_count": 73,
   "metadata": {},
   "outputs": [
    {
     "data": {
      "text/plain": [
       "{(2, 3): [2, 3]}"
      ]
     },
     "execution_count": 73,
     "metadata": {},
     "output_type": "execute_result"
    }
   ],
   "source": [
    "a = dict()\n",
    "a[(2,3)] = [2,3] # кортеж может быть ключом, потому что он неизменямый\n",
    "a"
   ]
  },
  {
   "cell_type": "code",
   "execution_count": 74,
   "metadata": {},
   "outputs": [
    {
     "ename": "TypeError",
     "evalue": "unhashable type: 'list'",
     "output_type": "error",
     "traceback": [
      "\u001b[1;31m---------------------------------------------------------------------------\u001b[0m",
      "\u001b[1;31mTypeError\u001b[0m                                 Traceback (most recent call last)",
      "\u001b[1;32m<ipython-input-74-c056762b57aa>\u001b[0m in \u001b[0;36m<module>\u001b[1;34m()\u001b[0m\n\u001b[0;32m      1\u001b[0m \u001b[0mb\u001b[0m \u001b[1;33m=\u001b[0m \u001b[0mdict\u001b[0m\u001b[1;33m(\u001b[0m\u001b[1;33m)\u001b[0m\u001b[1;33m\u001b[0m\u001b[0m\n\u001b[1;32m----> 2\u001b[1;33m \u001b[0mb\u001b[0m\u001b[1;33m[\u001b[0m\u001b[1;33m[\u001b[0m\u001b[1;36m2\u001b[0m\u001b[1;33m,\u001b[0m\u001b[1;36m3\u001b[0m\u001b[1;33m]\u001b[0m\u001b[1;33m]\u001b[0m \u001b[1;33m=\u001b[0m \u001b[1;33m[\u001b[0m\u001b[1;36m2\u001b[0m\u001b[1;33m,\u001b[0m\u001b[1;36m3\u001b[0m\u001b[1;33m]\u001b[0m \u001b[1;31m# а список уже нет, получим ошибку\u001b[0m\u001b[1;33m\u001b[0m\u001b[0m\n\u001b[0m\u001b[0;32m      3\u001b[0m \u001b[0mprint\u001b[0m\u001b[1;33m(\u001b[0m\u001b[0mb\u001b[0m\u001b[1;33m)\u001b[0m\u001b[1;33m\u001b[0m\u001b[0m\n",
      "\u001b[1;31mTypeError\u001b[0m: unhashable type: 'list'"
     ]
    }
   ],
   "source": [
    "b = dict()\n",
    "b[[2,3]] = [2,3] # а список уже нет, получим ошибку\n",
    "print(b)"
   ]
  },
  {
   "cell_type": "markdown",
   "metadata": {},
   "source": [
    "### Создание словаря\n",
    "В фигурных скобках (как множество), через двоеточие ключ:значение"
   ]
  },
  {
   "cell_type": "code",
   "execution_count": 75,
   "metadata": {},
   "outputs": [
    {
     "name": "stdout",
     "output_type": "stream",
     "text": [
      "{'кот': 10, 'и': 100, 'Тейлора': 2}\n"
     ]
    }
   ],
   "source": [
    "d1 = {\"кот\": 10, \"и\": 100, \"Тейлора\": 2}\n",
    "print(d1)"
   ]
  },
  {
   "cell_type": "markdown",
   "metadata": {},
   "source": [
    "Через функцию dict(). Обратите внимание, что тогда ключ-значение задаются не через двоеточие, а через знак присваивания. А строковые ключи пишем без кавычек - по сути мы создаем переменные с такими названиями и присваиваим им значения (а потом функция dict() уже превратит их в строки)."
   ]
  },
  {
   "cell_type": "code",
   "execution_count": 76,
   "metadata": {},
   "outputs": [
    {
     "name": "stdout",
     "output_type": "stream",
     "text": [
      "{'кот': 10, 'и': 100, 'Тейлора': 2}\n"
     ]
    }
   ],
   "source": [
    "d2 = dict(кот=10, и=100, Тейлора=2)\n",
    "print(d2) # получили тот же результат, что выше"
   ]
  },
  {
   "cell_type": "markdown",
   "metadata": {},
   "source": [
    "И третий способ - передаем функции dict() список списков или кортежей с парами ключ-значение."
   ]
  },
  {
   "cell_type": "code",
   "execution_count": 77,
   "metadata": {},
   "outputs": [
    {
     "name": "stdout",
     "output_type": "stream",
     "text": [
      "{'кот': 10, 'и': 100, 'Тейлора': 2}\n"
     ]
    }
   ],
   "source": [
    "d3 = dict([(\"кот\", 10), (\"и\", 100), (\"Тейлора\", 2)]) # перечисление (например, список) tuple\n",
    "print(d3)"
   ]
  },
  {
   "cell_type": "markdown",
   "metadata": {},
   "source": [
    "Помните, когда мы говорили про списки, мы обсуждали проблему того, что важно создавать именно копию объекта, чтобы сохранять исходный список. Копию словаря можно сделать так"
   ]
  },
  {
   "cell_type": "code",
   "execution_count": 78,
   "metadata": {},
   "outputs": [
    {
     "name": "stdout",
     "output_type": "stream",
     "text": [
      "{'кот': 10, 'и': 100, 'Тейлора': 2}\n"
     ]
    }
   ],
   "source": [
    "d4 = dict(d3) # фактически, копируем dict который строчкой выше\n",
    "print(d4)"
   ]
  },
  {
   "cell_type": "code",
   "execution_count": 79,
   "metadata": {},
   "outputs": [
    {
     "data": {
      "text/plain": [
       "True"
      ]
     },
     "execution_count": 79,
     "metadata": {},
     "output_type": "execute_result"
    }
   ],
   "source": [
    "d1 == d2 == d3 == d4 # Содержание всех словарей одинаковое"
   ]
  },
  {
   "cell_type": "markdown",
   "metadata": {},
   "source": [
    "Пустой словарь можно создать двумя способами."
   ]
  },
  {
   "cell_type": "code",
   "execution_count": 80,
   "metadata": {},
   "outputs": [
    {
     "name": "stdout",
     "output_type": "stream",
     "text": [
      "{} {}\n"
     ]
    }
   ],
   "source": [
    "d2 = {} # это пустой словарь (но не пустое множество)\n",
    "d4 = dict()\n",
    "print(d2, d4)"
   ]
  },
  {
   "cell_type": "markdown",
   "metadata": {},
   "source": [
    "### Операции со словарями"
   ]
  },
  {
   "cell_type": "markdown",
   "metadata": {},
   "source": [
    "Как мы уже говорили, словари неупорядоченные структуры и обратиться по индексу к объекту уже больше не удастся."
   ]
  },
  {
   "cell_type": "code",
   "execution_count": 81,
   "metadata": {},
   "outputs": [
    {
     "ename": "KeyError",
     "evalue": "1",
     "output_type": "error",
     "traceback": [
      "\u001b[1;31m---------------------------------------------------------------------------\u001b[0m",
      "\u001b[1;31mKeyError\u001b[0m                                  Traceback (most recent call last)",
      "\u001b[1;32m<ipython-input-81-627b04325301>\u001b[0m in \u001b[0;36m<module>\u001b[1;34m()\u001b[0m\n\u001b[1;32m----> 1\u001b[1;33m \u001b[0md1\u001b[0m\u001b[1;33m[\u001b[0m\u001b[1;36m1\u001b[0m\u001b[1;33m]\u001b[0m \u001b[1;31m# выдаст ошибку во всех случах кроме того, если в вашем словаре вдруг есть ключ 1\u001b[0m\u001b[1;33m\u001b[0m\u001b[0m\n\u001b[0m",
      "\u001b[1;31mKeyError\u001b[0m: 1"
     ]
    }
   ],
   "source": [
    "d1[1] # выдаст ошибку во всех случах кроме того, если в вашем словаре вдруг есть ключ 1"
   ]
  },
  {
   "cell_type": "markdown",
   "metadata": {},
   "source": [
    "Но можно обращаться к значению по ключу."
   ]
  },
  {
   "cell_type": "code",
   "execution_count": 82,
   "metadata": {},
   "outputs": [
    {
     "name": "stdout",
     "output_type": "stream",
     "text": [
      "10\n",
      "11\n"
     ]
    }
   ],
   "source": [
    "print(d1['кот'])\n",
    "d1[\"кот\"] = 11 # так же как в списке по индексу - можно присвоить новое значение по ключу\n",
    "print(d1['кот'])"
   ]
  },
  {
   "cell_type": "markdown",
   "metadata": {},
   "source": [
    "Можно создать новую пару ключ-значение. Для этого просто указываем в квадратных скобках название нового ключа."
   ]
  },
  {
   "cell_type": "code",
   "execution_count": 83,
   "metadata": {},
   "outputs": [
    {
     "name": "stdout",
     "output_type": "stream",
     "text": [
      "test\n"
     ]
    }
   ],
   "source": [
    "d1[1] = 'test'\n",
    "print(d1[1]) # теперь работает!"
   ]
  },
  {
   "cell_type": "markdown",
   "metadata": {},
   "source": [
    "Кроме обращения по ключу, можно достать значение с помощью метода .get(). Отличие работы метода в том, что если ключа еще нет в словаре, он не генерирует ошибку, а возвращает объект типа None (ничего). Это очень полезно в решении некоторых задач."
   ]
  },
  {
   "cell_type": "code",
   "execution_count": 84,
   "metadata": {},
   "outputs": [
    {
     "name": "stdout",
     "output_type": "stream",
     "text": [
      "11\n",
      "None\n"
     ]
    },
    {
     "ename": "KeyError",
     "evalue": "'ктоо'",
     "output_type": "error",
     "traceback": [
      "\u001b[1;31m---------------------------------------------------------------------------\u001b[0m",
      "\u001b[1;31mKeyError\u001b[0m                                  Traceback (most recent call last)",
      "\u001b[1;32m<ipython-input-84-028409b2ab17>\u001b[0m in \u001b[0;36m<module>\u001b[1;34m()\u001b[0m\n\u001b[0;32m      1\u001b[0m \u001b[0mprint\u001b[0m\u001b[1;33m(\u001b[0m\u001b[0md1\u001b[0m\u001b[1;33m.\u001b[0m\u001b[0mget\u001b[0m\u001b[1;33m(\u001b[0m\u001b[1;34m\"кот\"\u001b[0m\u001b[1;33m)\u001b[0m\u001b[1;33m)\u001b[0m \u001b[1;31m# вернул значение 11\u001b[0m\u001b[1;33m\u001b[0m\u001b[0m\n\u001b[0;32m      2\u001b[0m \u001b[0mprint\u001b[0m\u001b[1;33m(\u001b[0m\u001b[0md1\u001b[0m\u001b[1;33m.\u001b[0m\u001b[0mget\u001b[0m\u001b[1;33m(\u001b[0m\u001b[1;34m\"ктоо\"\u001b[0m\u001b[1;33m)\u001b[0m\u001b[1;33m)\u001b[0m \u001b[1;31m# вернут None\u001b[0m\u001b[1;33m\u001b[0m\u001b[0m\n\u001b[1;32m----> 3\u001b[1;33m \u001b[0mprint\u001b[0m\u001b[1;33m(\u001b[0m\u001b[0md1\u001b[0m\u001b[1;33m[\u001b[0m\u001b[1;34m'ктоо'\u001b[0m\u001b[1;33m]\u001b[0m\u001b[1;33m)\u001b[0m \u001b[1;31m# ошибка\u001b[0m\u001b[1;33m\u001b[0m\u001b[0m\n\u001b[0m",
      "\u001b[1;31mKeyError\u001b[0m: 'ктоо'"
     ]
    }
   ],
   "source": [
    "print(d1.get(\"кот\")) # вернул значение 11\n",
    "print(d1.get(\"ктоо\")) # вернут None\n",
    "print(d1['ктоо']) # ошибка"
   ]
  },
  {
   "cell_type": "markdown",
   "metadata": {},
   "source": [
    "Также со словарями работают уже знакомые нам операции - проверка количества элементов, проверка на наличие объектов."
   ]
  },
  {
   "cell_type": "code",
   "execution_count": 85,
   "metadata": {},
   "outputs": [
    {
     "name": "stdout",
     "output_type": "stream",
     "text": [
      "{'кот': 11, 'и': 100, 'Тейлора': 2, 1: 'test'}\n",
      "True\n",
      "True\n"
     ]
    }
   ],
   "source": [
    "print(d1)\n",
    "print(\"кот\" in d1) # проверка на наличие ключа\n",
    "print(\"ктоо\" not in d1) # проверка на отстуствие ключа\n"
   ]
  },
  {
   "cell_type": "markdown",
   "metadata": {},
   "source": [
    "Удалить отдельный ключ или же очистить весь словарь можно специальными операциями."
   ]
  },
  {
   "cell_type": "code",
   "execution_count": 86,
   "metadata": {},
   "outputs": [
    {
     "name": "stdout",
     "output_type": "stream",
     "text": [
      "{'и': 100, 'Тейлора': 2, 1: 'test'}\n",
      "{}\n"
     ]
    }
   ],
   "source": [
    "del d1[\"кот\"] # удалить ключ со своим значением\n",
    "print(d1)\n",
    "d1.clear() # удалить все\n",
    "print(d1)"
   ]
  }
 ],
 "metadata": {
  "kernelspec": {
   "display_name": "Python 3",
   "language": "python",
   "name": "python3"
  },
  "language_info": {
   "codemirror_mode": {
    "name": "ipython",
    "version": 3
   },
   "file_extension": ".py",
   "mimetype": "text/x-python",
   "name": "python",
   "nbconvert_exporter": "python",
   "pygments_lexer": "ipython3",
   "version": "3.6.5"
  }
 },
 "nbformat": 4,
 "nbformat_minor": 2
}
